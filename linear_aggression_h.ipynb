{
  "nbformat": 4,
  "nbformat_minor": 0,
  "metadata": {
    "colab": {
      "name": "linear-aggression_h.ipynb",
      "provenance": [],
      "authorship_tag": "ABX9TyOv1h0Q6zU64cxEDM6OWRMy",
      "include_colab_link": true
    },
    "kernelspec": {
      "name": "python3",
      "display_name": "Python 3"
    },
    "language_info": {
      "name": "python"
    }
  },
  "cells": [
    {
      "cell_type": "markdown",
      "metadata": {
        "id": "view-in-github",
        "colab_type": "text"
      },
      "source": [
        "<a href=\"https://colab.research.google.com/github/coconutmilk0125/d2L/blob/main/linear_aggression_h.ipynb\" target=\"_parent\"><img src=\"https://colab.research.google.com/assets/colab-badge.svg\" alt=\"Open In Colab\"/></a>"
      ]
    },
    {
      "cell_type": "code",
      "source": [
        "!pip install pyinstaller\n",
        "!pip install matplotlib-inline\n",
        "!pip install -U d2l\n"
      ],
      "metadata": {
        "id": "fNmWgEfQKvLY"
      },
      "execution_count": null,
      "outputs": []
    },
    {
      "cell_type": "code",
      "source": [
        "%matplotlib inline\n",
        "import random\n",
        "import torch\n",
        "from d2l import torch as d2l "
      ],
      "metadata": {
        "id": "fwsfU71kK2Oh"
      },
      "execution_count": null,
      "outputs": []
    },
    {
      "cell_type": "code",
      "source": [
        "def synthetic_data(w, b, num_examples):\n",
        "  X = torch.normal(0, 1, (num_examples, len(w)))\n",
        "  y = torch.matmul(X, w) + b\n",
        "  y += torch.normal(0, 0.01, y.shape)\n",
        "  return X, y.reshape((-1, 1))\n",
        "\n",
        "true_w = torch.tensor([2, -3.4])\n",
        "true_b = 4.2\n",
        "features, labels = synthetic_data(true_w, true_b, 1000)"
      ],
      "metadata": {
        "id": "KNQvLellM-Fm"
      },
      "execution_count": null,
      "outputs": []
    },
    {
      "cell_type": "code",
      "source": [
        "print(features[0], \"_\", labels[0])"
      ],
      "metadata": {
        "colab": {
          "base_uri": "https://localhost:8080/"
        },
        "id": "_OWWSirVXNE1",
        "outputId": "e404994b-9d28-4034-b2bd-250f08d0a2ce"
      },
      "execution_count": null,
      "outputs": [
        {
          "output_type": "stream",
          "name": "stdout",
          "text": [
            "tensor([-1.6504,  0.3096]) _ tensor([-0.1599])\n"
          ]
        }
      ]
    },
    {
      "cell_type": "code",
      "source": [
        "def data_iter(batch_size, features, labels):\n",
        "  num_examples = len(features)\n",
        "  indices = list(range(num_examples))\n",
        "  random.shuffle(indices)\n",
        "  for i in range(0, num_examples, batch_size):\n",
        "    batch_indices = torch.tensor(indices[i:min(i + batch_size, num_examples)])\n",
        "    yield features[batch_indices], labels[batch_indices]\n",
        "\n",
        "batch_size = 10\n",
        "\n",
        "for X,y in data_iter(batch_size, features, labels):\n",
        "  print(X, '\\n', y)\n",
        "  break"
      ],
      "metadata": {
        "id": "8t3BPKaYb5M_"
      },
      "execution_count": null,
      "outputs": []
    },
    {
      "cell_type": "code",
      "source": [
        "w = torch.normal(0, 0.01, size=(2, 1), requires_grad=True)\n",
        "b = torch.zeros(1, requires_grad=True)"
      ],
      "metadata": {
        "id": "4Kwg6c5sdjUU"
      },
      "execution_count": null,
      "outputs": []
    },
    {
      "cell_type": "code",
      "source": [
        "def linreg(X, w, b):\n",
        "  return torch.matmul(X, w) + b"
      ],
      "metadata": {
        "id": "nWZ8IPcXdyt6"
      },
      "execution_count": null,
      "outputs": []
    },
    {
      "cell_type": "code",
      "source": [
        "def squared_loss(y_hat, y):\n",
        "  return (y_hat - y.reshape(y_hat.shape))**2 / 2"
      ],
      "metadata": {
        "id": "EA-Rxmimd9UQ"
      },
      "execution_count": null,
      "outputs": []
    },
    {
      "cell_type": "code",
      "source": [
        "def sgd(params, lr, batch_size):\n",
        "  with torch.no_grad():\n",
        "    for param in params:\n",
        "      param -= lr * param.grad / batch_size\n",
        "      param.grad.zero_()"
      ],
      "metadata": {
        "id": "m5tTWmMZfzc9"
      },
      "execution_count": null,
      "outputs": []
    },
    {
      "cell_type": "code",
      "source": [
        "lr = 10\n",
        "num_epochs = 10\n",
        "net = linreg\n",
        "loss = squared_loss\n",
        "\n",
        "for epoch in range(num_epochs):\n",
        "  for X,y in data_iter(batch_size, features, labels):\n",
        "    l = loss(net(X, w, b), y)\n",
        "    l.sum().backward()\n",
        "    sgd([w, b], lr, batch_size)\n",
        "  with torch.no_grad():\n",
        "    train_l = loss(net(features, w, b), labels)\n",
        "    print(f'epoch {epoch + 1}, loss {float(train_l.mean()):f}')"
      ],
      "metadata": {
        "colab": {
          "base_uri": "https://localhost:8080/"
        },
        "id": "QXfX-XGugU7c",
        "outputId": "ef5fb76e-2728-4cfc-de61-b22b3430b3aa"
      },
      "execution_count": null,
      "outputs": [
        {
          "output_type": "stream",
          "name": "stdout",
          "text": [
            "epoch 1, loss nan\n",
            "epoch 2, loss nan\n",
            "epoch 3, loss nan\n",
            "epoch 4, loss nan\n",
            "epoch 5, loss nan\n",
            "epoch 6, loss nan\n",
            "epoch 7, loss nan\n",
            "epoch 8, loss nan\n",
            "epoch 9, loss nan\n",
            "epoch 10, loss nan\n"
          ]
        }
      ]
    }
  ]
}