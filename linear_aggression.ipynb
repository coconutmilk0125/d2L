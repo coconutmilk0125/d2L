{
  "nbformat": 4,
  "nbformat_minor": 0,
  "metadata": {
    "colab": {
      "name": "linear-aggression.ipynb",
      "provenance": [],
      "authorship_tag": "ABX9TyOUXft8czdd4r2Hk/6E7s+H",
      "include_colab_link": true
    },
    "kernelspec": {
      "name": "python3",
      "display_name": "Python 3"
    },
    "language_info": {
      "name": "python"
    }
  },
  "cells": [
    {
      "cell_type": "markdown",
      "metadata": {
        "id": "view-in-github",
        "colab_type": "text"
      },
      "source": [
        "<a href=\"https://colab.research.google.com/github/coconutmilk0125/d2L/blob/main/linear_aggression.ipynb\" target=\"_parent\"><img src=\"https://colab.research.google.com/assets/colab-badge.svg\" alt=\"Open In Colab\"/></a>"
      ]
    },
    {
      "cell_type": "code",
      "execution_count": null,
      "metadata": {
        "id": "p9K8io1yieq7"
      },
      "outputs": [],
      "source": [
        "!pip install pyinstaller\n",
        "!pip install matplotlib-inline\n",
        "!pip install -U d2l"
      ]
    },
    {
      "cell_type": "code",
      "source": [
        "import numpy as np\n",
        "import torch\n",
        "from torch.utils import data\n",
        "from d2l import torch as d2l\n",
        "\n",
        "true_w = torch.tensor([2, -3.4])\n",
        "true_b = 4.2\n",
        "features, labels = d2l.synthetic_data(true_w, true_b, 1000)"
      ],
      "metadata": {
        "id": "H79cbUOqiiVY"
      },
      "execution_count": null,
      "outputs": []
    },
    {
      "cell_type": "code",
      "source": [
        "def load_array(data_arrays, batch_size, is_train=True):\n",
        "  dataset = data.TensorDataset(*data_arrays)\n",
        "  return data.DataLoader(dataset, batch_size, shuffle=is_train)\n",
        "\n",
        "batch_size = 10\n",
        "data_iter = load_array((features, labels), batch_size)\n",
        "\n",
        "next(iter(data_iter))"
      ],
      "metadata": {
        "colab": {
          "base_uri": "https://localhost:8080/"
        },
        "id": "DyFI9XnOjDeu",
        "outputId": "b6094c18-847b-4d13-e1fd-23649c2346bf"
      },
      "execution_count": null,
      "outputs": [
        {
          "output_type": "execute_result",
          "data": {
            "text/plain": [
              "[tensor([[ 0.5856,  1.0930],\n",
              "         [ 0.2577, -1.7806],\n",
              "         [ 1.3974, -0.4114],\n",
              "         [-1.3225, -1.2922],\n",
              "         [-2.0256, -0.7124],\n",
              "         [-0.3020,  0.2751],\n",
              "         [ 0.1535, -1.7946],\n",
              "         [ 0.4969, -0.2296],\n",
              "         [-0.5617, -0.4520],\n",
              "         [ 1.1557, -1.7901]]), tensor([[ 1.6426],\n",
              "         [10.7789],\n",
              "         [ 8.3801],\n",
              "         [ 5.9413],\n",
              "         [ 2.5659],\n",
              "         [ 2.6775],\n",
              "         [10.6228],\n",
              "         [ 5.9878],\n",
              "         [ 4.6310],\n",
              "         [12.5917]])]"
            ]
          },
          "metadata": {},
          "execution_count": 5
        }
      ]
    },
    {
      "cell_type": "code",
      "source": [
        "from torch import nn\n",
        "\n",
        "# nn.Sequential: list of layers\n",
        "net = nn.Sequential(nn.Linear(2,1))"
      ],
      "metadata": {
        "id": "5cKZ1WuIj-Yo"
      },
      "execution_count": null,
      "outputs": []
    },
    {
      "cell_type": "code",
      "source": [
        "# 均值为0， 方差0.01的正态分布\n",
        "net[0].weight.data.normal_(0, 0.01)\n",
        "net[0].bias.data.fill_(0)"
      ],
      "metadata": {
        "colab": {
          "base_uri": "https://localhost:8080/"
        },
        "id": "mW6W-qb5kKdE",
        "outputId": "69c17d5a-3397-4629-be42-73fb348ec8ce"
      },
      "execution_count": null,
      "outputs": [
        {
          "output_type": "execute_result",
          "data": {
            "text/plain": [
              "tensor([0.])"
            ]
          },
          "metadata": {},
          "execution_count": 13
        }
      ]
    },
    {
      "cell_type": "code",
      "source": [
        "loss = nn.MSELoss() #均方误差"
      ],
      "metadata": {
        "id": "A0vPTMi4khyX"
      },
      "execution_count": null,
      "outputs": []
    },
    {
      "cell_type": "code",
      "source": [
        "trainer = torch.optim.SGD(net.parameters(), lr = 0.03)"
      ],
      "metadata": {
        "id": "Zvqle2K2km9Q"
      },
      "execution_count": null,
      "outputs": []
    },
    {
      "cell_type": "code",
      "source": [
        "num_epochs = 3\n",
        "for epoch in range(num_epochs):\n",
        "  for X,y in data_iter:\n",
        "    l = loss(net(X), y)\n",
        "    trainer.zero_grad()\n",
        "    l.backward()\n",
        "    trainer.step()\n",
        "  l = loss(net(features), labels)\n",
        "  print(f'epoch {epoch + 1}, loss {l:f}')"
      ],
      "metadata": {
        "colab": {
          "base_uri": "https://localhost:8080/"
        },
        "id": "g8tlYlNyk8Jq",
        "outputId": "d04d8807-999e-4225-de3d-79d46b0c0047"
      },
      "execution_count": null,
      "outputs": [
        {
          "output_type": "stream",
          "name": "stdout",
          "text": [
            "epoch 1, loss 0.000181\n",
            "epoch 2, loss 0.000098\n",
            "epoch 3, loss 0.000099\n"
          ]
        }
      ]
    }
  ]
}